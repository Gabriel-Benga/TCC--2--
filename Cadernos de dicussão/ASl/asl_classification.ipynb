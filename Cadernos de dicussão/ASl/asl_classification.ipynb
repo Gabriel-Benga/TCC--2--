{
 "cells": [
  {
   "cell_type": "code",
   "execution_count": 1,
   "metadata": {
    "execution": {
     "iopub.execute_input": "2024-05-07T18:46:27.542022Z",
     "iopub.status.busy": "2024-05-07T18:46:27.541734Z",
     "iopub.status.idle": "2024-05-07T18:46:33.982513Z",
     "shell.execute_reply": "2024-05-07T18:46:33.981851Z",
     "shell.execute_reply.started": "2024-05-07T18:46:27.541941Z"
    }
   },
   "outputs": [],
   "source": [
    "import os\n",
    "import cv2                  \n",
    "import numpy as np  \n",
    "from tqdm import tqdm\n",
    "import os                   \n",
    "from random import shuffle  \n",
    "from zipfile import ZipFile\n",
    "from PIL import Image\n",
    "from sklearn.model_selection import train_test_split\n",
    "from keras.preprocessing.image import ImageDataGenerator\n",
    "\n",
    "from sklearn.model_selection import train_test_split\n",
    "from sklearn.model_selection import KFold\n",
    "from sklearn.metrics import accuracy_score,precision_score,recall_score,confusion_matrix,roc_curve,roc_auc_score\n",
    "from sklearn.model_selection import GridSearchCV\n",
    "from sklearn.preprocessing import LabelEncoder\n",
    "\n",
    "\n",
    "from keras import backend as K\n",
    "from keras.models import Sequential\n",
    "from keras.layers import Dense\n",
    "from tensorflow.keras.optimizers import Adam\n",
    "from tensorflow.keras.utils import to_categorical\n",
    "\n",
    "from keras.layers import Dropout, Flatten,Activation\n",
    "from keras.layers import Conv2D\n",
    "\n",
    "from keras.layers import MaxPooling2D\n",
    "import matplotlib.pyplot as plt\n",
    "import seaborn as sns\n",
    "from sklearn import metrics\n"
   ]
  },
  {
   "cell_type": "code",
   "execution_count": 3,
   "metadata": {
    "execution": {
     "iopub.execute_input": "2024-05-07T18:50:12.095290Z",
     "iopub.status.busy": "2024-05-07T18:50:12.094933Z",
     "iopub.status.idle": "2024-05-07T18:50:50.192924Z",
     "shell.execute_reply": "2024-05-07T18:50:50.191882Z",
     "shell.execute_reply.started": "2024-05-07T18:50:12.095255Z"
    }
   },
   "outputs": [
    {
     "data": {
      "text/html": [
       "<div>\n",
       "<style scoped>\n",
       "    .dataframe tbody tr th:only-of-type {\n",
       "        vertical-align: middle;\n",
       "    }\n",
       "\n",
       "    .dataframe tbody tr th {\n",
       "        vertical-align: top;\n",
       "    }\n",
       "\n",
       "    .dataframe thead th {\n",
       "        text-align: right;\n",
       "    }\n",
       "</style>\n",
       "<table border=\"1\" class=\"dataframe\">\n",
       "  <thead>\n",
       "    <tr style=\"text-align: right;\">\n",
       "      <th></th>\n",
       "      <th>label</th>\n",
       "      <th>path</th>\n",
       "    </tr>\n",
       "  </thead>\n",
       "  <tbody>\n",
       "    <tr>\n",
       "      <th>0</th>\n",
       "      <td>N</td>\n",
       "      <td>/kaggle/input/asl-alphabet/asl_alphabet_train/...</td>\n",
       "    </tr>\n",
       "    <tr>\n",
       "      <th>1</th>\n",
       "      <td>N</td>\n",
       "      <td>/kaggle/input/asl-alphabet/asl_alphabet_train/...</td>\n",
       "    </tr>\n",
       "    <tr>\n",
       "      <th>2</th>\n",
       "      <td>N</td>\n",
       "      <td>/kaggle/input/asl-alphabet/asl_alphabet_train/...</td>\n",
       "    </tr>\n",
       "    <tr>\n",
       "      <th>3</th>\n",
       "      <td>N</td>\n",
       "      <td>/kaggle/input/asl-alphabet/asl_alphabet_train/...</td>\n",
       "    </tr>\n",
       "    <tr>\n",
       "      <th>4</th>\n",
       "      <td>N</td>\n",
       "      <td>/kaggle/input/asl-alphabet/asl_alphabet_train/...</td>\n",
       "    </tr>\n",
       "    <tr>\n",
       "      <th>...</th>\n",
       "      <td>...</td>\n",
       "      <td>...</td>\n",
       "    </tr>\n",
       "    <tr>\n",
       "      <th>86995</th>\n",
       "      <td>J</td>\n",
       "      <td>/kaggle/input/asl-alphabet/asl_alphabet_train/...</td>\n",
       "    </tr>\n",
       "    <tr>\n",
       "      <th>86996</th>\n",
       "      <td>J</td>\n",
       "      <td>/kaggle/input/asl-alphabet/asl_alphabet_train/...</td>\n",
       "    </tr>\n",
       "    <tr>\n",
       "      <th>86997</th>\n",
       "      <td>J</td>\n",
       "      <td>/kaggle/input/asl-alphabet/asl_alphabet_train/...</td>\n",
       "    </tr>\n",
       "    <tr>\n",
       "      <th>86998</th>\n",
       "      <td>J</td>\n",
       "      <td>/kaggle/input/asl-alphabet/asl_alphabet_train/...</td>\n",
       "    </tr>\n",
       "    <tr>\n",
       "      <th>86999</th>\n",
       "      <td>J</td>\n",
       "      <td>/kaggle/input/asl-alphabet/asl_alphabet_train/...</td>\n",
       "    </tr>\n",
       "  </tbody>\n",
       "</table>\n",
       "<p>87000 rows × 2 columns</p>\n",
       "</div>"
      ],
      "text/plain": [
       "      label                                               path\n",
       "0         N  /kaggle/input/asl-alphabet/asl_alphabet_train/...\n",
       "1         N  /kaggle/input/asl-alphabet/asl_alphabet_train/...\n",
       "2         N  /kaggle/input/asl-alphabet/asl_alphabet_train/...\n",
       "3         N  /kaggle/input/asl-alphabet/asl_alphabet_train/...\n",
       "4         N  /kaggle/input/asl-alphabet/asl_alphabet_train/...\n",
       "...     ...                                                ...\n",
       "86995     J  /kaggle/input/asl-alphabet/asl_alphabet_train/...\n",
       "86996     J  /kaggle/input/asl-alphabet/asl_alphabet_train/...\n",
       "86997     J  /kaggle/input/asl-alphabet/asl_alphabet_train/...\n",
       "86998     J  /kaggle/input/asl-alphabet/asl_alphabet_train/...\n",
       "86999     J  /kaggle/input/asl-alphabet/asl_alphabet_train/...\n",
       "\n",
       "[87000 rows x 2 columns]"
      ]
     },
     "execution_count": 3,
     "metadata": {},
     "output_type": "execute_result"
    }
   ],
   "source": [
    "import pandas as pd\n",
    "train_folder = '/asl-alphabet/asl_alphabet_train/asl_alphabet_train'\n",
    "all_data = []\n",
    "for folder in os.listdir(train_folder):\n",
    "    \n",
    "    label_folder = os.path.join(train_folder, folder)\n",
    "    onlyfiles = [{'label':folder,'path':os.path.join(label_folder, f)} for f in os.listdir(label_folder) if os.path.isfile(os.path.join(label_folder, f))]\n",
    "    #print(onlyfiles)\n",
    "    all_data += onlyfiles\n",
    "data_df = pd.DataFrame(all_data)\n",
    "data_df\n",
    "\n",
    "\n",
    "        "
   ]
  },
  {
   "cell_type": "code",
   "execution_count": 4,
   "metadata": {
    "execution": {
     "iopub.execute_input": "2024-05-07T18:52:09.502452Z",
     "iopub.status.busy": "2024-05-07T18:52:09.502171Z",
     "iopub.status.idle": "2024-05-07T18:52:10.306745Z",
     "shell.execute_reply": "2024-05-07T18:52:10.306099Z",
     "shell.execute_reply.started": "2024-05-07T18:52:09.502426Z"
    }
   },
   "outputs": [],
   "source": [
    "x_train,x_holdout = train_test_split(data_df, test_size= 0.10, random_state=42,stratify=data_df[['label']])\n",
    "x_train,x_test = train_test_split(x_train, test_size= 0.25, random_state=42,stratify=x_train[['label']])"
   ]
  },
  {
   "cell_type": "code",
   "execution_count": 5,
   "metadata": {
    "execution": {
     "iopub.execute_input": "2024-05-07T18:52:17.439133Z",
     "iopub.status.busy": "2024-05-07T18:52:17.438377Z",
     "iopub.status.idle": "2024-05-07T18:53:03.418499Z",
     "shell.execute_reply": "2024-05-07T18:53:03.417719Z",
     "shell.execute_reply.started": "2024-05-07T18:52:17.439097Z"
    }
   },
   "outputs": [
    {
     "name": "stdout",
     "output_type": "stream",
     "text": [
      "Found 58725 validated image filenames belonging to 29 classes.\n",
      "Found 19575 validated image filenames belonging to 29 classes.\n",
      "Found 8700 validated image filenames belonging to 29 classes.\n"
     ]
    }
   ],
   "source": [
    "img_width, img_height = 64, 64\n",
    "batch_size = 256\n",
    "y_col = 'label'\n",
    "x_col = 'path'\n",
    "no_of_classes = len(data_df[y_col].unique())\n",
    "\n",
    "\n",
    "train_datagen = ImageDataGenerator(rescale = 1/255.0)\n",
    "\n",
    "train_generator = train_datagen.flow_from_dataframe(\n",
    "    dataframe=x_train,x_col=x_col, y_col=y_col,\n",
    "    target_size=(img_width, img_height),class_mode='categorical', batch_size=batch_size,\n",
    "    shuffle=False,\n",
    ")\n",
    "\n",
    "validation_datagen = ImageDataGenerator(rescale = 1/255.0)\n",
    "validation_generator = validation_datagen.flow_from_dataframe(\n",
    "    dataframe=x_test, x_col=x_col, y_col=y_col,\n",
    "    target_size=(img_width, img_height), class_mode='categorical', batch_size=batch_size,\n",
    "    shuffle=False\n",
    ")\n",
    "\n",
    "holdout_datagen = ImageDataGenerator(rescale = 1/255.0)\n",
    "holdout_generator = holdout_datagen.flow_from_dataframe(\n",
    "    dataframe=x_holdout, x_col=x_col, y_col=y_col,\n",
    "    target_size=(img_width, img_height), class_mode='categorical', batch_size=batch_size,\n",
    "    shuffle=False\n",
    ")"
   ]
  },
  {
   "cell_type": "code",
   "execution_count": 6,
   "metadata": {
    "execution": {
     "iopub.execute_input": "2024-05-07T18:53:19.575565Z",
     "iopub.status.busy": "2024-05-07T18:53:19.575252Z",
     "iopub.status.idle": "2024-05-07T18:53:22.282009Z",
     "shell.execute_reply": "2024-05-07T18:53:22.281089Z",
     "shell.execute_reply.started": "2024-05-07T18:53:19.575531Z"
    }
   },
   "outputs": [],
   "source": [
    "model = Sequential()\n",
    "\n",
    "model.add(Conv2D(filters = 32, kernel_size = (5,5),padding = 'Same',activation ='relu', input_shape = (64,64,3)))\n",
    "model.add(MaxPooling2D(pool_size = (2,2), strides = (2,2)))\n",
    "model.add(Dropout(0.3))\n",
    "\n",
    "model.add(Conv2D(filters = 64, kernel_size = (5,5),padding = 'Same',activation ='relu', input_shape = (150,150,3)))\n",
    "model.add(MaxPooling2D(pool_size = (2,2), strides = (2,2)))\n",
    "model.add(Dropout(0.3))\n",
    "\n",
    "model.add(Conv2D(filters = 64, kernel_size = (5,5),padding = 'Same',activation ='relu', input_shape = (150,150,3)))\n",
    "model.add(MaxPooling2D(pool_size = (2,2), strides = (2,2)))\n",
    "model.add(Dropout(0.3))\n",
    "\n",
    "model.add(Conv2D(filters = 128, kernel_size = (5,5),padding = 'Same',activation ='relu', input_shape = (150,150,3)))\n",
    "model.add(MaxPooling2D(pool_size = (2,2), strides = (2,2)))\n",
    "\n",
    "model.add(Flatten())\n",
    "model.add(Dense(256))\n",
    "model.add(Activation('relu'))\n",
    "model.add(Dense(29, activation = \"softmax\"))"
   ]
  },
  {
   "cell_type": "code",
   "execution_count": 7,
   "metadata": {
    "execution": {
     "iopub.execute_input": "2024-05-07T18:53:25.402781Z",
     "iopub.status.busy": "2024-05-07T18:53:25.402283Z",
     "iopub.status.idle": "2024-05-07T18:53:25.415768Z",
     "shell.execute_reply": "2024-05-07T18:53:25.415094Z",
     "shell.execute_reply.started": "2024-05-07T18:53:25.402744Z"
    }
   },
   "outputs": [],
   "source": [
    "model.compile(optimizer=Adam(learning_rate=0.001),loss='categorical_crossentropy',metrics=['accuracy'])\n",
    "# model.summary()"
   ]
  },
  {
   "cell_type": "code",
   "execution_count": 8,
   "metadata": {
    "execution": {
     "iopub.execute_input": "2024-05-07T18:53:30.723960Z",
     "iopub.status.busy": "2024-05-07T18:53:30.723641Z",
     "iopub.status.idle": "2024-05-07T19:12:04.068028Z",
     "shell.execute_reply": "2024-05-07T19:12:04.067341Z",
     "shell.execute_reply.started": "2024-05-07T18:53:30.723926Z"
    }
   },
   "outputs": [
    {
     "name": "stdout",
     "output_type": "stream",
     "text": [
      "Epoch 1/5\n",
      "230/230 [==============================] - 630s 3s/step - loss: 2.2393 - accuracy: 0.3318 - val_loss: 0.7500 - val_accuracy: 0.7537\n",
      "Epoch 2/5\n",
      "230/230 [==============================] - 118s 513ms/step - loss: 0.4887 - accuracy: 0.8325 - val_loss: 0.2107 - val_accuracy: 0.9344\n",
      "Epoch 3/5\n",
      "230/230 [==============================] - 122s 529ms/step - loss: 0.2053 - accuracy: 0.9291 - val_loss: 0.0832 - val_accuracy: 0.9747\n",
      "Epoch 4/5\n",
      "230/230 [==============================] - 123s 534ms/step - loss: 0.1249 - accuracy: 0.9560 - val_loss: 0.0553 - val_accuracy: 0.9822\n",
      "Epoch 5/5\n",
      "230/230 [==============================] - 119s 519ms/step - loss: 0.0982 - accuracy: 0.9665 - val_loss: 0.0392 - val_accuracy: 0.9864\n"
     ]
    }
   ],
   "source": [
    "from tensorflow.keras.callbacks import EarlyStopping, ModelCheckpoint\n",
    "early_stop = EarlyStopping(monitor='val_loss',patience=5)\n",
    "\n",
    "batch_size=128\n",
    "epochs=5\n",
    "\n",
    "history = model.fit(train_generator,\n",
    "                    epochs=epochs,\n",
    "                    verbose=1,\n",
    "                    validation_data=validation_generator,\n",
    "                    callbacks = [early_stop])"
   ]
  },
  {
   "cell_type": "code",
   "execution_count": 9,
   "metadata": {
    "execution": {
     "iopub.execute_input": "2024-05-07T19:15:14.776883Z",
     "iopub.status.busy": "2024-05-07T19:15:14.776311Z",
     "iopub.status.idle": "2024-05-07T19:15:15.056912Z",
     "shell.execute_reply": "2024-05-07T19:15:15.056171Z",
     "shell.execute_reply.started": "2024-05-07T19:15:14.776851Z"
    }
   },
   "outputs": [
    {
     "data": {
      "image/png": "[encoded data removed]",
      "text/plain": [
       "<Figure size 1008x504 with 1 Axes>"
      ]
     },
     "metadata": {
      "needs_background": "light"
     },
     "output_type": "display_data"
    }
   ],
   "source": [
    "acc=history.history['accuracy']\n",
    "val_acc=history.history['val_accuracy']\n",
    "loss=history.history['loss']\n",
    "val_loss=history.history['val_loss']\n",
    "\n",
    "epochs=range(len(acc))\n",
    "\n",
    "fig = plt.figure(figsize=(14,7))\n",
    "plt.plot(epochs, acc, 'r', label=\"Training Accuracy\")\n",
    "plt.plot(epochs, val_acc, 'b', label=\"Validation Accuracy\")\n",
    "plt.xlabel('Epoch')\n",
    "plt.ylabel('Accuracy')\n",
    "plt.title('Training and validation accuracy')\n",
    "plt.legend(loc='lower right')\n",
    "plt.show()"
   ]
  },
  {
   "cell_type": "code",
   "execution_count": 10,
   "metadata": {
    "execution": {
     "iopub.execute_input": "2024-05-07T19:15:18.423890Z",
     "iopub.status.busy": "2024-05-07T19:15:18.423128Z",
     "iopub.status.idle": "2024-05-07T19:15:18.690917Z",
     "shell.execute_reply": "2024-05-07T19:15:18.690213Z",
     "shell.execute_reply.started": "2024-05-07T19:15:18.423851Z"
    }
   },
   "outputs": [
    {
     "data": {
      "text/plain": [
       "Text(0.5, 1.0, 'Training and validation loss')"
      ]
     },
     "execution_count": 10,
     "metadata": {},
     "output_type": "execute_result"
    },
    {
     "data": {
      "image/png": "[encoded data removed]",
      "text/plain": [
       "<Figure size 1008x504 with 1 Axes>"
      ]
     },
     "metadata": {
      "needs_background": "light"
     },
     "output_type": "display_data"
    }
   ],
   "source": [
    "fig = plt.figure(figsize=(14,7))\n",
    "plt.plot(epochs, loss, 'r', label=\"Training Loss\")\n",
    "plt.plot(epochs, val_loss, 'b', label=\"Validation Loss\")\n",
    "plt.legend(loc='upper right')\n",
    "plt.xlabel('Epoch')\n",
    "plt.ylabel('Loss')\n",
    "plt.title('Training and validation loss')"
   ]
  },
  {
   "cell_type": "markdown",
   "metadata": {},
   "source": [
    "# Prediction<span id=\"7\"></span>"
   ]
  },
  {
   "cell_type": "markdown",
   "metadata": {},
   "source": [
    "#### Finally predicting and checking the accuracy from the holdout data."
   ]
  },
  {
   "cell_type": "code",
   "execution_count": 11,
   "metadata": {
    "execution": {
     "iopub.execute_input": "2024-05-07T19:15:24.294530Z",
     "iopub.status.busy": "2024-05-07T19:15:24.293837Z",
     "iopub.status.idle": "2024-05-07T19:16:41.624553Z",
     "shell.execute_reply": "2024-05-07T19:16:41.623789Z",
     "shell.execute_reply.started": "2024-05-07T19:15:24.294485Z"
    }
   },
   "outputs": [
    {
     "name": "stdout",
     "output_type": "stream",
     "text": [
      "34/34 [==============================] - 75s 2s/step\n",
      "              precision    recall  f1-score   support\n",
      "\n",
      "           A       0.97      1.00      0.99       300\n",
      "           B       0.97      1.00      0.99       300\n",
      "           C       1.00      0.99      0.99       300\n",
      "           D       1.00      1.00      1.00       300\n",
      "           E       1.00      0.96      0.98       300\n",
      "           F       1.00      1.00      1.00       300\n",
      "           G       1.00      0.99      1.00       300\n",
      "           H       0.99      1.00      1.00       300\n",
      "           I       1.00      1.00      1.00       300\n",
      "           J       1.00      1.00      1.00       300\n",
      "           K       0.96      0.99      0.98       300\n",
      "           L       1.00      1.00      1.00       300\n",
      "           M       0.99      1.00      0.99       300\n",
      "           N       0.99      0.99      0.99       300\n",
      "           O       1.00      0.99      0.99       300\n",
      "           P       1.00      0.99      0.99       300\n",
      "           Q       0.99      1.00      1.00       300\n",
      "           R       0.94      0.99      0.96       300\n",
      "           S       1.00      0.92      0.96       300\n",
      "           T       0.99      1.00      1.00       300\n",
      "           U       0.96      0.97      0.97       300\n",
      "           V       0.99      0.91      0.94       300\n",
      "           W       0.99      0.98      0.99       300\n",
      "           X       0.95      0.99      0.97       300\n",
      "           Y       1.00      1.00      1.00       300\n",
      "           Z       1.00      1.00      1.00       300\n",
      "         del       1.00      1.00      1.00       300\n",
      "     nothing       1.00      1.00      1.00       300\n",
      "       space       0.99      1.00      1.00       300\n",
      "\n",
      "    accuracy                           0.99      8700\n",
      "   macro avg       0.99      0.99      0.99      8700\n",
      "weighted avg       0.99      0.99      0.99      8700\n",
      "\n"
     ]
    }
   ],
   "source": [
    "predictions = model.predict(holdout_generator, verbose=1)\n",
    "# Get most likely class\n",
    "predicted_classes = np.argmax(predictions, axis=-1)\n",
    "predictions = np.argmax(predictions, axis=-1) #multiple categories\n",
    "\n",
    "true_classes = holdout_generator.classes\n",
    "class_labels = list(holdout_generator.class_indices.keys())  \n",
    "report = metrics.classification_report(true_classes, predicted_classes, target_names=class_labels)\n",
    "print(report)"
   ]
  },
  {
   "cell_type": "code",
   "execution_count": 13,
   "metadata": {
    "execution": {
     "iopub.execute_input": "2024-05-07T19:17:22.693501Z",
     "iopub.status.busy": "2024-05-07T19:17:22.692735Z",
     "iopub.status.idle": "2024-05-07T19:17:22.753130Z",
     "shell.execute_reply": "2024-05-07T19:17:22.752294Z",
     "shell.execute_reply.started": "2024-05-07T19:17:22.693463Z"
    }
   },
   "outputs": [],
   "source": [
    "model.save('ASL_classification.h5')"
   ]
  },
  {
   "cell_type": "code",
   "execution_count": 22,
   "metadata": {
    "execution": {
     "iopub.execute_input": "2024-05-07T19:34:45.321184Z",
     "iopub.status.busy": "2024-05-07T19:34:45.320613Z",
     "iopub.status.idle": "2024-05-07T19:34:45.327101Z",
     "shell.execute_reply": "2024-05-07T19:34:45.326361Z",
     "shell.execute_reply.started": "2024-05-07T19:34:45.321137Z"
    }
   },
   "outputs": [
    {
     "data": {
      "text/plain": [
       "['A',\n",
       " 'B',\n",
       " 'C',\n",
       " 'D',\n",
       " 'E',\n",
       " 'F',\n",
       " 'G',\n",
       " 'H',\n",
       " 'I',\n",
       " 'J',\n",
       " 'K',\n",
       " 'L',\n",
       " 'M',\n",
       " 'N',\n",
       " 'O',\n",
       " 'P',\n",
       " 'Q',\n",
       " 'R',\n",
       " 'S',\n",
       " 'T',\n",
       " 'U',\n",
       " 'V',\n",
       " 'W',\n",
       " 'X',\n",
       " 'Y',\n",
       " 'Z',\n",
       " 'del',\n",
       " 'nothing',\n",
       " 'space']"
      ]
     },
     "execution_count": 22,
     "metadata": {},
     "output_type": "execute_result"
    }
   ],
   "source": [
    "class_labels"
   ]
  },
  {
   "cell_type": "code",
   "execution_count": null,
   "metadata": {},
   "outputs": [],
   "source": []
  }
 ],
 "metadata": {
  "kaggle": {
   "accelerator": "gpu",
   "dataSources": [
    {
     "datasetId": 23079,
     "sourceId": 29550,
     "sourceType": "datasetVersion"
    }
   ],
   "dockerImageVersionId": 30158,
   "isGpuEnabled": true,
   "isInternetEnabled": true,
   "language": "python",
   "sourceType": "notebook"
  },
  "kernelspec": {
   "display_name": "Python 3 (ipykernel)",
   "language": "python",
   "name": "python3"
  },
  "language_info": {
   "codemirror_mode": {
    "name": "ipython",
    "version": 3
   },
   "file_extension": ".py",
   "mimetype": "text/x-python",
   "name": "python",
   "nbconvert_exporter": "python",
   "pygments_lexer": "ipython3",
   "version": "3.11.7"
  }
 },
 "nbformat": 4,
 "nbformat_minor": 4
}
