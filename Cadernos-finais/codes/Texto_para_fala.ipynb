{
 "cells": [
  {
   "cell_type": "code",
   "execution_count": 1,
   "metadata": {},
   "outputs": [
    {
     "name": "stdout",
     "output_type": "stream",
     "text": [
      "Requirement already satisfied: opencv-python in c:\\users\\gabriel benga\\documents\\python\\python-sistemas\\anaconda\\lib\\site-packages (4.10.0.82)\n",
      "Requirement already satisfied: numpy>=1.21.2 in c:\\users\\gabriel benga\\documents\\python\\python-sistemas\\anaconda\\lib\\site-packages (from opencv-python) (1.26.4)\n",
      "Note: you may need to restart the kernel to use updated packages.\n"
     ]
    }
   ],
   "source": [
    "pip install opencv-python"
   ]
  },
  {
   "cell_type": "code",
   "execution_count": 2,
   "metadata": {},
   "outputs": [
    {
     "name": "stdout",
     "output_type": "stream",
     "text": [
      "Requirement already satisfied: pytesseract in c:\\users\\gabriel benga\\documents\\python\\python-sistemas\\anaconda\\lib\\site-packages (0.3.10)\n",
      "Requirement already satisfied: packaging>=21.3 in c:\\users\\gabriel benga\\documents\\python\\python-sistemas\\anaconda\\lib\\site-packages (from pytesseract) (23.1)\n",
      "Requirement already satisfied: Pillow>=8.0.0 in c:\\users\\gabriel benga\\documents\\python\\python-sistemas\\anaconda\\lib\\site-packages (from pytesseract) (10.2.0)\n",
      "Note: you may need to restart the kernel to use updated packages.\n"
     ]
    }
   ],
   "source": [
    "pip install pytesseract"
   ]
  },
  {
   "cell_type": "code",
   "execution_count": 3,
   "metadata": {},
   "outputs": [
    {
     "name": "stdout",
     "output_type": "stream",
     "text": [
      "Requirement already satisfied: gtts in c:\\users\\gabriel benga\\documents\\python\\python-sistemas\\anaconda\\lib\\site-packages (2.5.1)\n",
      "Requirement already satisfied: requests<3,>=2.27 in c:\\users\\gabriel benga\\documents\\python\\python-sistemas\\anaconda\\lib\\site-packages (from gtts) (2.31.0)\n",
      "Requirement already satisfied: click<8.2,>=7.1 in c:\\users\\gabriel benga\\documents\\python\\python-sistemas\\anaconda\\lib\\site-packages (from gtts) (8.1.7)\n",
      "Requirement already satisfied: colorama in c:\\users\\gabriel benga\\documents\\python\\python-sistemas\\anaconda\\lib\\site-packages (from click<8.2,>=7.1->gtts) (0.4.6)\n",
      "Requirement already satisfied: charset-normalizer<4,>=2 in c:\\users\\gabriel benga\\documents\\python\\python-sistemas\\anaconda\\lib\\site-packages (from requests<3,>=2.27->gtts) (2.0.4)\n",
      "Requirement already satisfied: idna<4,>=2.5 in c:\\users\\gabriel benga\\documents\\python\\python-sistemas\\anaconda\\lib\\site-packages (from requests<3,>=2.27->gtts) (3.4)\n",
      "Requirement already satisfied: urllib3<3,>=1.21.1 in c:\\users\\gabriel benga\\documents\\python\\python-sistemas\\anaconda\\lib\\site-packages (from requests<3,>=2.27->gtts) (2.0.7)\n",
      "Requirement already satisfied: certifi>=2017.4.17 in c:\\users\\gabriel benga\\documents\\python\\python-sistemas\\anaconda\\lib\\site-packages (from requests<3,>=2.27->gtts) (2024.2.2)\n",
      "Note: you may need to restart the kernel to use updated packages.\n"
     ]
    }
   ],
   "source": [
    "pip install gtts"
   ]
  },
  {
   "cell_type": "code",
   "execution_count": 4,
   "metadata": {},
   "outputs": [],
   "source": [
    "import sys\n",
    "from os import path\n",
    "import cv2\n",
    "import numpy as np\n",
    "from PyQt5 import QtCore\n",
    "from PyQt5 import QtWidgets\n",
    "from PyQt5 import QtGui\n",
    "import pytesseract\n",
    "from PIL import Image\n",
    "from pytesseract import image_to_string\n",
    "from gtts import gTTS\n",
    "import os"
   ]
  },
  {
   "cell_type": "code",
   "execution_count": 5,
   "metadata": {},
   "outputs": [],
   "source": [
    "pytesseract.pytesseract.tesseract_cmd = r\"C:\\Users\\Gabriel Benga\\Documents\\Python\\Python-sistemas\\tesseract-tudo\\tesseract.exe\"\n",
    "tessdata_config = r'--tessdata-dir \"C:\\Users\\Gabriel Benga\\Documents\\Python\\Python-sistemas\\tesseract-tudo\\tessdata\"'"
   ]
  },
  {
   "cell_type": "code",
   "execution_count": 6,
   "metadata": {},
   "outputs": [],
   "source": [
    "class RecordVideo(QtCore.QObject):\n",
    "    image_data = QtCore.pyqtSignal(np.ndarray)\n",
    "\n",
    "    def __init__(self, camera_port=0, parent=None):\n",
    "        super().__init__(parent)\n",
    "        self.camera = cv2.VideoCapture(camera_port)\n",
    "        \n",
    "        self.timer = QtCore.QBasicTimer()\n",
    "\n",
    "    def start_recoding(self):\n",
    "        self.timer.start(0, self)\n",
    "\n",
    "    def timerEvent(self, event):\n",
    "        if (event.timerId() != self.timer.timerId()):\n",
    "            return\n",
    "        read, data = self.camera.read()\n",
    "        if read:\n",
    "            self.image_data.emit(data)\n",
    "    \n",
    "    def saveframe(self):\n",
    "        read, data = self.camera.read()\n",
    "        if read:\n",
    "            cv2.imwrite(\"a.png\", data)\n",
    "            image = Image.fromarray(data)\n",
    "            image.load()\n",
    "\n",
    "            text = pytesseract.image_to_string(image, lang='por', config=tessdata_config)\n",
    "            print('Texto_Encontrado:', text, len(text))\n",
    "\n",
    "            if len(text)>0:\n",
    "                text_to_speech = gTTS(text=text, lang='pt')\n",
    "                text_to_speech.save('ConverteVoice.mp3')\n",
    "                os.system('start converteVoice.mp3')"
   ]
  },
  {
   "cell_type": "code",
   "execution_count": 7,
   "metadata": {},
   "outputs": [],
   "source": [
    "class DetectionWidget(QtWidgets.QWidget):\n",
    "    def __init__(self, parent=None):\n",
    "        super().__init__(parent)\n",
    "        self.image = QtGui.QImage()\n",
    "        self._red = (0, 0, 255)\n",
    "        self._width = 2\n",
    "        self._min_size = (30, 30)\n",
    "\n",
    "    def image_data_slot(self, image_data):\n",
    "        self.image = self.get_qimage(image_data)\n",
    "        if self.image.size() != self.size():\n",
    "            self.setFixedSize(self.image.size())\n",
    "        self.update()\n",
    "\n",
    "    def get_qimage(self, image: np.ndarray):\n",
    "        height, width, color = image.shape\n",
    "        bytesPerLine = 3 * width\n",
    "        QImage = QtGui.QImage\n",
    "\n",
    "        image = QImage(\n",
    "            image.data,\n",
    "            width,\n",
    "            height,\n",
    "            bytesPerLine,\n",
    "            QImage.Format_RGB888\n",
    "        )\n",
    "\n",
    "        image = image.rgbSwapped()\n",
    "        return image\n",
    "    \n",
    "    def paintEvent(self, event):\n",
    "        painter = QtGui.QPainter(self)\n",
    "        painter.drawImage(0, 0, self.image)\n",
    "        self.image = QtGui.QImage()"
   ]
  },
  {
   "cell_type": "code",
   "execution_count": 8,
   "metadata": {},
   "outputs": [],
   "source": [
    "class MainWidget(QtWidgets.QWidget):\n",
    "    def __init__(self, parent=None):\n",
    "        super().__init__(parent)\n",
    "\n",
    "        self.detection_widget = DetectionWidget()\n",
    "        self.record_video = RecordVideo()\n",
    "\n",
    "        image_slot = self.detection_widget.image_data_slot\n",
    "        self.record_video.image_data.connect(image_slot)\n",
    "\n",
    "        layout = QtWidgets.QVBoxLayout()\n",
    "        layout.addWidget(self.detection_widget)\n",
    "        self.run_button = QtWidgets.QPushButton('Inicie aqui')\n",
    "        layout.addWidget(self.run_button)\n",
    "        \n",
    "        self.run_button.clicked.connect(self.record_video.start_recoding)\n",
    "\n",
    "        self.screenshot = QtWidgets.QPushButton('Aperte aqui para capturar a immagem')\n",
    "        layout.addWidget(self.screenshot)\n",
    "        self.screenshot.clicked.connect(self.record_video.saveframe)\n",
    "        self.setLayout(layout)"
   ]
  },
  {
   "cell_type": "code",
   "execution_count": 9,
   "metadata": {},
   "outputs": [],
   "source": [
    "def run():\n",
    "    app = QtWidgets.QApplication(sys.argv)\n",
    "    main_window = QtWidgets.QMainWindow()\n",
    "    main_widget = MainWidget()\n",
    "    main_window.setCentralWidget(main_widget)\n",
    "    main_window.show()\n",
    "\n",
    "    sys.exit(app.exec_())"
   ]
  },
  {
   "cell_type": "code",
   "execution_count": 10,
   "metadata": {},
   "outputs": [
    {
     "name": "stdout",
     "output_type": "stream",
     "text": [
      "Texto_Encontrado: Espero que os orientadores\n",
      "gostem do meu projeto\n",
      " 49\n"
     ]
    },
    {
     "ename": "SystemExit",
     "evalue": "0",
     "output_type": "error",
     "traceback": [
      "An exception has occurred, use %tb to see the full traceback.\n",
      "\u001b[1;31mSystemExit\u001b[0m\u001b[1;31m:\u001b[0m 0\n"
     ]
    },
    {
     "name": "stderr",
     "output_type": "stream",
     "text": [
      "C:\\Users\\Gabriel Benga\\Documents\\Python\\Python-sistemas\\Anaconda\\Lib\\site-packages\\IPython\\core\\interactiveshell.py:3561: UserWarning: To exit: use 'exit', 'quit', or Ctrl-D.\n",
      "  warn(\"To exit: use 'exit', 'quit', or Ctrl-D.\", stacklevel=1)\n"
     ]
    }
   ],
   "source": [
    "run()"
   ]
  },
  {
   "cell_type": "code",
   "execution_count": null,
   "metadata": {},
   "outputs": [],
   "source": []
  },
  {
   "cell_type": "code",
   "execution_count": null,
   "metadata": {},
   "outputs": [],
   "source": []
  }
 ],
 "metadata": {
  "kernelspec": {
   "display_name": "Python 3 (ipykernel)",
   "language": "python",
   "name": "python3"
  },
  "language_info": {
   "codemirror_mode": {
    "name": "ipython",
    "version": 3
   },
   "file_extension": ".py",
   "mimetype": "text/x-python",
   "name": "python",
   "nbconvert_exporter": "python",
   "pygments_lexer": "ipython3",
   "version": "3.11.7"
  }
 },
 "nbformat": 4,
 "nbformat_minor": 4
}
