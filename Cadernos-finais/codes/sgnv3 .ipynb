{
 "cells": [
  {
   "cell_type": "code",
   "execution_count": 1,
   "metadata": {},
   "outputs": [],
   "source": [
    "import cv2\n",
    "import numpy as np\n",
    "import tensorflow as tf\n",
    "from gtts import gTTS\n",
    "import os\n"
   ]
  },
  {
   "cell_type": "code",
   "execution_count": 2,
   "metadata": {},
   "outputs": [],
   "source": [
    "\n",
    "# Load the saved model\n",
    "model = tf.keras.models.load_model('modelo-treimado.keras')\n"
   ]
  },
  {
   "cell_type": "code",
   "execution_count": 3,
   "metadata": {},
   "outputs": [],
   "source": [
    "def preprocess_image(img):\n",
    "    img = cv2.resize(img, (64, 64)) \n",
    "    img = np.array(img) / 255.0  \n",
    "    img = np.expand_dims(img, axis=0)  \n",
    "    return img\n",
    "\n",
    "def predict_text(img, class_labels):\n",
    "    img = preprocess_image(img)\n",
    "    prediction = model.predict(img)\n",
    "    predicted_class_index = np.argmax(prediction)\n",
    "    predicted_text = class_labels[predicted_class_index]\n",
    "    return predicted_text\n"
   ]
  },
  {
   "cell_type": "code",
   "execution_count": 4,
   "metadata": {},
   "outputs": [],
   "source": [
    "class_labels = ['A', 'B', 'C', 'D', 'E', 'F', 'G', 'H', 'I', 'J', 'K', 'L', 'M', 'N', 'O', 'P', 'Q', 'R', 'S', 'T', 'U', 'V', 'W', 'X', 'Y']\n"
   ]
  },
  {
   "cell_type": "code",
   "execution_count": null,
   "metadata": {},
   "outputs": [
    {
     "name": "stdout",
     "output_type": "stream",
     "text": [
      "\u001b[1m1/1\u001b[0m \u001b[32m━━━━━━━━━━━━━━━━━━━━\u001b[0m\u001b[37m\u001b[0m \u001b[1m0s\u001b[0m 374ms/step\n",
      "Sinal-identificado C\n"
     ]
    }
   ],
   "source": [
    "cap = cv2.VideoCapture(0)\n",
    "\n",
    "while True:\n",
    "    ret, frame = cap.read() \n",
    "    cv2.imshow('Janela de predição de libras', frame)  \n",
    "\n",
    "    key = cv2.waitKey(1)\n",
    "    if key == ord('d'): \n",
    "        break\n",
    "    elif key == ord('p'): \n",
    "        predicted_text = predict_text(frame, class_labels)\n",
    "        print(\"Sinal-identificado\", predicted_text)\n",
    "        \n",
    "        text_to_speech = gTTS(text=predicted_text, lang='pt')\n",
    "        text_to_speech.save('libras-convertida.mp3')\n",
    "        os.system('iniciar-conversão.mp3')\n",
    "\n",
    "\n",
    "cap.release()\n",
    "cv2.destroyAllWindows()"
   ]
  },
  {
   "cell_type": "code",
   "execution_count": null,
   "metadata": {},
   "outputs": [],
   "source": []
  },
  {
   "cell_type": "code",
   "execution_count": null,
   "metadata": {},
   "outputs": [],
   "source": []
  }
 ],
 "metadata": {
  "kernelspec": {
   "display_name": "Python 3 (ipykernel)",
   "language": "python",
   "name": "python3"
  },
  "language_info": {
   "codemirror_mode": {
    "name": "ipython",
    "version": 3
   },
   "file_extension": ".py",
   "mimetype": "text/x-python",
   "name": "python",
   "nbconvert_exporter": "python",
   "pygments_lexer": "ipython3",
   "version": "3.11.7"
  }
 },
 "nbformat": 4,
 "nbformat_minor": 4
}
